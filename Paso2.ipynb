{
  "cells": [
    {
      "attachments": {},
      "cell_type": "markdown",
      "metadata": {
        "id": "K1cUbcWLqxyv"
      },
      "source": [
        "# Dependencias necesarias\n",
        "Primero vamos a instalar e importar todas las librerías necesarias."
      ]
    },
    {
      "cell_type": "code",
      "execution_count": null,
      "metadata": {
        "colab": {
          "base_uri": "https://localhost:8080/"
        },
        "id": "bUPVnc9yn7el",
        "outputId": "d76c2bf5-a2f6-48e3-ba2b-a56b9250101a"
      },
      "outputs": [
        {
          "name": "stdout",
          "output_type": "stream",
          "text": [
            "Looking in indexes: https://pypi.org/simple, https://us-python.pkg.dev/colab-wheels/public/simple/\n",
            "Requirement already satisfied: pip in /usr/local/lib/python3.10/dist-packages (23.1.2)\n",
            "Looking in indexes: https://pypi.org/simple, https://us-python.pkg.dev/colab-wheels/public/simple/\n",
            "Requirement already satisfied: pandas==1.5.3 in /usr/local/lib/python3.10/dist-packages (1.5.3)\n",
            "Requirement already satisfied: seaborn==0.12.2 in /usr/local/lib/python3.10/dist-packages (0.12.2)\n",
            "Requirement already satisfied: matplotlib==3.7.1 in /usr/local/lib/python3.10/dist-packages (3.7.1)\n",
            "Requirement already satisfied: python-dateutil>=2.8.1 in /usr/local/lib/python3.10/dist-packages (from pandas==1.5.3) (2.8.2)\n",
            "Requirement already satisfied: pytz>=2020.1 in /usr/local/lib/python3.10/dist-packages (from pandas==1.5.3) (2022.7.1)\n",
            "Requirement already satisfied: numpy>=1.21.0 in /usr/local/lib/python3.10/dist-packages (from pandas==1.5.3) (1.22.4)\n",
            "Requirement already satisfied: contourpy>=1.0.1 in /usr/local/lib/python3.10/dist-packages (from matplotlib==3.7.1) (1.1.0)\n",
            "Requirement already satisfied: cycler>=0.10 in /usr/local/lib/python3.10/dist-packages (from matplotlib==3.7.1) (0.11.0)\n",
            "Requirement already satisfied: fonttools>=4.22.0 in /usr/local/lib/python3.10/dist-packages (from matplotlib==3.7.1) (4.40.0)\n",
            "Requirement already satisfied: kiwisolver>=1.0.1 in /usr/local/lib/python3.10/dist-packages (from matplotlib==3.7.1) (1.4.4)\n",
            "Requirement already satisfied: packaging>=20.0 in /usr/local/lib/python3.10/dist-packages (from matplotlib==3.7.1) (23.1)\n",
            "Requirement already satisfied: pillow>=6.2.0 in /usr/local/lib/python3.10/dist-packages (from matplotlib==3.7.1) (8.4.0)\n",
            "Requirement already satisfied: pyparsing>=2.3.1 in /usr/local/lib/python3.10/dist-packages (from matplotlib==3.7.1) (3.1.0)\n",
            "Requirement already satisfied: six>=1.5 in /usr/local/lib/python3.10/dist-packages (from python-dateutil>=2.8.1->pandas==1.5.3) (1.16.0)\n"
          ]
        }
      ],
      "source": [
        "!pip install --upgrade pip\n",
        "!pip install pandas==1.5.3 seaborn==0.12.2 matplotlib==3.7.1"
      ]
    },
    {
      "cell_type": "code",
      "execution_count": null,
      "metadata": {
        "id": "Bzay2yC3pAv_"
      },
      "outputs": [],
      "source": [
        "# Importamos las librerias necesarias.\n",
        "import matplotlib.pyplot as plt\n",
        "import pandas as pd\n",
        "import seaborn as sns"
      ]
    },
    {
      "attachments": {},
      "cell_type": "markdown",
      "metadata": {
        "id": "KZmF7-1vrAhj"
      },
      "source": [
        "# Carga de datos:\n",
        "\n",
        "Lo siguiente es traer la información que vamos a explorar."
      ]
    },
    {
      "cell_type": "code",
      "execution_count": null,
      "metadata": {
        "id": "fD9ZRFbqhWdW"
      },
      "outputs": [],
      "source": [
        "# Cargamos la data en la variable demografic Data o demoData.\n",
        "demoData = pd.read_csv('https://raw.githubusercontent.com/crjahe26/pruebaNequi/master/data/bank_transactions.csv')"
      ]
    },
    {
      "attachments": {},
      "cell_type": "markdown",
      "metadata": {
        "id": "-c7k4a3urWea"
      },
      "source": [
        "# Verificar la estructura del dataset y visualizar las primeras filas\n",
        "\n",
        "Continuamos validando la estructura de nuestro dataset, vamos a comprender su tamaño y dimensiones, tambien vamos a obtener una idea de cómo están organizados los datos y qué tipo de información contienen."
      ]
    },
    {
      "cell_type": "code",
      "execution_count": null,
      "metadata": {
        "colab": {
          "base_uri": "https://localhost:8080/",
          "height": 276
        },
        "id": "RAfPNrVRrdFM",
        "outputId": "557d8f2c-b1fa-4a12-edaa-c9ffd5c49811"
      },
      "outputs": [
        {
          "name": "stdout",
          "output_type": "stream",
          "text": [
            "La cantidad de filas que tenemos es: 1048567 \n",
            "Y la cantidad de columnas es: 9 \n",
            "\n",
            "Las primeras columnas de nuestro data set nos arrojan la siguiente información:\n"
          ]
        },
        {
          "data": {
            "text/html": [
              "\n",
              "  <div id=\"df-5867b5f5-f37c-4e5a-b52b-7d2a793d2695\">\n",
              "    <div class=\"colab-df-container\">\n",
              "      <div>\n",
              "<style scoped>\n",
              "    .dataframe tbody tr th:only-of-type {\n",
              "        vertical-align: middle;\n",
              "    }\n",
              "\n",
              "    .dataframe tbody tr th {\n",
              "        vertical-align: top;\n",
              "    }\n",
              "\n",
              "    .dataframe thead th {\n",
              "        text-align: right;\n",
              "    }\n",
              "</style>\n",
              "<table border=\"1\" class=\"dataframe\">\n",
              "  <thead>\n",
              "    <tr style=\"text-align: right;\">\n",
              "      <th></th>\n",
              "      <th>TransactionID</th>\n",
              "      <th>CustomerID</th>\n",
              "      <th>CustomerDOB</th>\n",
              "      <th>CustGender</th>\n",
              "      <th>CustLocation</th>\n",
              "      <th>CustAccountBalance</th>\n",
              "      <th>TransactionDate</th>\n",
              "      <th>TransactionTime</th>\n",
              "      <th>TransactionAmount (INR)</th>\n",
              "    </tr>\n",
              "  </thead>\n",
              "  <tbody>\n",
              "    <tr>\n",
              "      <th>0</th>\n",
              "      <td>T1</td>\n",
              "      <td>C5841053</td>\n",
              "      <td>10/1/94</td>\n",
              "      <td>F</td>\n",
              "      <td>JAMSHEDPUR</td>\n",
              "      <td>17819.05</td>\n",
              "      <td>2/8/16</td>\n",
              "      <td>143207</td>\n",
              "      <td>25.0</td>\n",
              "    </tr>\n",
              "    <tr>\n",
              "      <th>1</th>\n",
              "      <td>T2</td>\n",
              "      <td>C2142763</td>\n",
              "      <td>4/4/57</td>\n",
              "      <td>M</td>\n",
              "      <td>JHAJJAR</td>\n",
              "      <td>2270.69</td>\n",
              "      <td>2/8/16</td>\n",
              "      <td>141858</td>\n",
              "      <td>27999.0</td>\n",
              "    </tr>\n",
              "    <tr>\n",
              "      <th>2</th>\n",
              "      <td>T3</td>\n",
              "      <td>C4417068</td>\n",
              "      <td>26/11/96</td>\n",
              "      <td>F</td>\n",
              "      <td>MUMBAI</td>\n",
              "      <td>17874.44</td>\n",
              "      <td>2/8/16</td>\n",
              "      <td>142712</td>\n",
              "      <td>459.0</td>\n",
              "    </tr>\n",
              "    <tr>\n",
              "      <th>3</th>\n",
              "      <td>T4</td>\n",
              "      <td>C5342380</td>\n",
              "      <td>14/9/73</td>\n",
              "      <td>F</td>\n",
              "      <td>MUMBAI</td>\n",
              "      <td>866503.21</td>\n",
              "      <td>2/8/16</td>\n",
              "      <td>142714</td>\n",
              "      <td>2060.0</td>\n",
              "    </tr>\n",
              "    <tr>\n",
              "      <th>4</th>\n",
              "      <td>T5</td>\n",
              "      <td>C9031234</td>\n",
              "      <td>24/3/88</td>\n",
              "      <td>F</td>\n",
              "      <td>NAVI MUMBAI</td>\n",
              "      <td>6714.43</td>\n",
              "      <td>2/8/16</td>\n",
              "      <td>181156</td>\n",
              "      <td>1762.5</td>\n",
              "    </tr>\n",
              "  </tbody>\n",
              "</table>\n",
              "</div>\n",
              "      <button class=\"colab-df-convert\" onclick=\"convertToInteractive('df-5867b5f5-f37c-4e5a-b52b-7d2a793d2695')\"\n",
              "              title=\"Convert this dataframe to an interactive table.\"\n",
              "              style=\"display:none;\">\n",
              "        \n",
              "  <svg xmlns=\"http://www.w3.org/2000/svg\" height=\"24px\"viewBox=\"0 0 24 24\"\n",
              "       width=\"24px\">\n",
              "    <path d=\"M0 0h24v24H0V0z\" fill=\"none\"/>\n",
              "    <path d=\"M18.56 5.44l.94 2.06.94-2.06 2.06-.94-2.06-.94-.94-2.06-.94 2.06-2.06.94zm-11 1L8.5 8.5l.94-2.06 2.06-.94-2.06-.94L8.5 2.5l-.94 2.06-2.06.94zm10 10l.94 2.06.94-2.06 2.06-.94-2.06-.94-.94-2.06-.94 2.06-2.06.94z\"/><path d=\"M17.41 7.96l-1.37-1.37c-.4-.4-.92-.59-1.43-.59-.52 0-1.04.2-1.43.59L10.3 9.45l-7.72 7.72c-.78.78-.78 2.05 0 2.83L4 21.41c.39.39.9.59 1.41.59.51 0 1.02-.2 1.41-.59l7.78-7.78 2.81-2.81c.8-.78.8-2.07 0-2.86zM5.41 20L4 18.59l7.72-7.72 1.47 1.35L5.41 20z\"/>\n",
              "  </svg>\n",
              "      </button>\n",
              "      \n",
              "  <style>\n",
              "    .colab-df-container {\n",
              "      display:flex;\n",
              "      flex-wrap:wrap;\n",
              "      gap: 12px;\n",
              "    }\n",
              "\n",
              "    .colab-df-convert {\n",
              "      background-color: #E8F0FE;\n",
              "      border: none;\n",
              "      border-radius: 50%;\n",
              "      cursor: pointer;\n",
              "      display: none;\n",
              "      fill: #1967D2;\n",
              "      height: 32px;\n",
              "      padding: 0 0 0 0;\n",
              "      width: 32px;\n",
              "    }\n",
              "\n",
              "    .colab-df-convert:hover {\n",
              "      background-color: #E2EBFA;\n",
              "      box-shadow: 0px 1px 2px rgba(60, 64, 67, 0.3), 0px 1px 3px 1px rgba(60, 64, 67, 0.15);\n",
              "      fill: #174EA6;\n",
              "    }\n",
              "\n",
              "    [theme=dark] .colab-df-convert {\n",
              "      background-color: #3B4455;\n",
              "      fill: #D2E3FC;\n",
              "    }\n",
              "\n",
              "    [theme=dark] .colab-df-convert:hover {\n",
              "      background-color: #434B5C;\n",
              "      box-shadow: 0px 1px 3px 1px rgba(0, 0, 0, 0.15);\n",
              "      filter: drop-shadow(0px 1px 2px rgba(0, 0, 0, 0.3));\n",
              "      fill: #FFFFFF;\n",
              "    }\n",
              "  </style>\n",
              "\n",
              "      <script>\n",
              "        const buttonEl =\n",
              "          document.querySelector('#df-5867b5f5-f37c-4e5a-b52b-7d2a793d2695 button.colab-df-convert');\n",
              "        buttonEl.style.display =\n",
              "          google.colab.kernel.accessAllowed ? 'block' : 'none';\n",
              "\n",
              "        async function convertToInteractive(key) {\n",
              "          const element = document.querySelector('#df-5867b5f5-f37c-4e5a-b52b-7d2a793d2695');\n",
              "          const dataTable =\n",
              "            await google.colab.kernel.invokeFunction('convertToInteractive',\n",
              "                                                     [key], {});\n",
              "          if (!dataTable) return;\n",
              "\n",
              "          const docLinkHtml = 'Like what you see? Visit the ' +\n",
              "            '<a target=\"_blank\" href=https://colab.research.google.com/notebooks/data_table.ipynb>data table notebook</a>'\n",
              "            + ' to learn more about interactive tables.';\n",
              "          element.innerHTML = '';\n",
              "          dataTable['output_type'] = 'display_data';\n",
              "          await google.colab.output.renderOutput(dataTable, element);\n",
              "          const docLink = document.createElement('div');\n",
              "          docLink.innerHTML = docLinkHtml;\n",
              "          element.appendChild(docLink);\n",
              "        }\n",
              "      </script>\n",
              "    </div>\n",
              "  </div>\n",
              "  "
            ],
            "text/plain": [
              "  TransactionID CustomerID CustomerDOB CustGender CustLocation  \\\n",
              "0            T1   C5841053     10/1/94          F   JAMSHEDPUR   \n",
              "1            T2   C2142763      4/4/57          M      JHAJJAR   \n",
              "2            T3   C4417068    26/11/96          F       MUMBAI   \n",
              "3            T4   C5342380     14/9/73          F       MUMBAI   \n",
              "4            T5   C9031234     24/3/88          F  NAVI MUMBAI   \n",
              "\n",
              "   CustAccountBalance TransactionDate  TransactionTime  \\\n",
              "0            17819.05          2/8/16           143207   \n",
              "1             2270.69          2/8/16           141858   \n",
              "2            17874.44          2/8/16           142712   \n",
              "3           866503.21          2/8/16           142714   \n",
              "4             6714.43          2/8/16           181156   \n",
              "\n",
              "   TransactionAmount (INR)  \n",
              "0                     25.0  \n",
              "1                  27999.0  \n",
              "2                    459.0  \n",
              "3                   2060.0  \n",
              "4                   1762.5  "
            ]
          },
          "execution_count": 4,
          "metadata": {},
          "output_type": "execute_result"
        }
      ],
      "source": [
        "print(\"La cantidad de filas que tenemos es:\", demoData.shape[0],\n",
        "      \"\\nY la cantidad de columnas es:\", demoData.shape[1],\n",
        "      \"\\n\\nLas primeras columnas de nuestro data set nos arrojan la siguiente información:\")\n",
        "\n",
        "demoData.head()"
      ]
    },
    {
      "cell_type": "code",
      "execution_count": null,
      "metadata": {
        "id": "NHHaX62mtcVu"
      },
      "outputs": [],
      "source": [
        "#demoData.sort_values(by=\"TransactionTime\", ascending=True)\n",
        "#demoData.nsmallest(10000, 'TransactionTime')\n",
        "#max(demoData[\"TransactionTime\"])"
      ]
    },
    {
      "attachments": {},
      "cell_type": "markdown",
      "metadata": {
        "id": "l8vHg0DVsdG8"
      },
      "source": [
        "# Explorar los tipos de datos y resumir la información\n",
        "\n",
        "Ahora vamos a validar de que tipos de datos se compone nuestro data set, y posteriormente vamos a validar un resumen estadistico básico."
      ]
    },
    {
      "cell_type": "code",
      "execution_count": null,
      "metadata": {
        "colab": {
          "base_uri": "https://localhost:8080/"
        },
        "id": "SZqLFGtzruX7",
        "outputId": "03879a22-0a03-4808-aca1-f13b80011e97"
      },
      "outputs": [
        {
          "name": "stdout",
          "output_type": "stream",
          "text": [
            "<class 'pandas.core.frame.DataFrame'>\n",
            "RangeIndex: 1048567 entries, 0 to 1048566\n",
            "Data columns (total 9 columns):\n",
            " #   Column                   Non-Null Count    Dtype  \n",
            "---  ------                   --------------    -----  \n",
            " 0   TransactionID            1048567 non-null  object \n",
            " 1   CustomerID               1048567 non-null  object \n",
            " 2   CustomerDOB              1045170 non-null  object \n",
            " 3   CustGender               1047467 non-null  object \n",
            " 4   CustLocation             1048416 non-null  object \n",
            " 5   CustAccountBalance       1046198 non-null  float64\n",
            " 6   TransactionDate          1048567 non-null  object \n",
            " 7   TransactionTime          1048567 non-null  int64  \n",
            " 8   TransactionAmount (INR)  1048567 non-null  float64\n",
            "dtypes: float64(2), int64(1), object(6)\n",
            "memory usage: 72.0+ MB\n"
          ]
        }
      ],
      "source": [
        "demoData.info()"
      ]
    },
    {
      "attachments": {},
      "cell_type": "markdown",
      "metadata": {
        "id": "hN127cknOZPs"
      },
      "source": [
        "Aquí ya empezamos a identificar un par de cosas, como que varias columnas tienen valores nulos, ademas de que varios tipos de las columnas no corresponden o no son demasiado manejables, vamos a corroborarlo igualmente.\n"
      ]
    },
    {
      "cell_type": "code",
      "execution_count": null,
      "metadata": {
        "colab": {
          "base_uri": "https://localhost:8080/"
        },
        "id": "lmhIkP3XpCvm",
        "outputId": "0816cf09-e497-46f6-8220-7d4985531499"
      },
      "outputs": [
        {
          "data": {
            "text/plain": [
              "TransactionID               object\n",
              "CustomerID                  object\n",
              "CustomerDOB                 object\n",
              "CustGender                  object\n",
              "CustLocation                object\n",
              "CustAccountBalance         float64\n",
              "TransactionDate             object\n",
              "TransactionTime              int64\n",
              "TransactionAmount (INR)    float64\n",
              "dtype: object"
            ]
          },
          "execution_count": 7,
          "metadata": {},
          "output_type": "execute_result"
        }
      ],
      "source": [
        "demoData.dtypes"
      ]
    },
    {
      "attachments": {},
      "cell_type": "markdown",
      "metadata": {
        "id": "4GXI5BPr3JQD"
      },
      "source": [
        "Podemos ver que solo algunos datos tienen un formato adecuado, por lo tanto debemos realizar algunos cambios en estos para poder trabajar con ellos correctamente y vamos a agregar una columna llamada \"CustomerAge\" a partir de la columna llamada \"CustomerDOB\" y la columna TransactionDate para saber la edad de los clientes al momento de realizar la transacción.\n"
      ]
    },
    {
      "cell_type": "code",
      "execution_count": null,
      "metadata": {
        "id": "nI9CSh8s6Z-M"
      },
      "outputs": [],
      "source": [
        "# Fecha de nacimiento -> datetime\n",
        "demoData[\"CustomerDOB\"] = pd.to_datetime(demoData[\"CustomerDOB\"])\n",
        "\n",
        "# Fecha de la transacción -> datetime\n",
        "demoData[\"TransactionDate\"] = pd.to_datetime(demoData[\"TransactionDate\"])\n",
        "\n",
        "# Fecha de la transacción - fecha de nacimiento = edad del cliente al momento de la transacción.\n",
        "demoData[\"CustomerAge\"] = demoData[\"TransactionDate\"].dt.year - demoData[\"CustomerDOB\"].dt.year"
      ]
    },
    {
      "attachments": {},
      "cell_type": "markdown",
      "metadata": {
        "id": "oO4ZjMFW8ihq"
      },
      "source": [
        "A continuación vamos a tomar el tiempo de la transacción, separarlo en pares de caracteres que indican nuestra hora en formato militar, luego lo pasamos a formato date time."
      ]
    },
    {
      "cell_type": "code",
      "execution_count": null,
      "metadata": {
        "id": "lpgo9FQmRJyO"
      },
      "outputs": [],
      "source": [
        "demoData['TransactionTime'] = pd.to_datetime(demoData['TransactionTime'].astype(str).str.zfill(6),\n",
        "                                             format='%H%M%S')"
      ]
    },
    {
      "attachments": {},
      "cell_type": "markdown",
      "metadata": {
        "id": "ljZEbMh2TCmf"
      },
      "source": [
        "Creamos una columna con la unión de la fecha y la hora de la transacción."
      ]
    },
    {
      "cell_type": "code",
      "execution_count": null,
      "metadata": {
        "id": "OOcAfiKbaMYw"
      },
      "outputs": [],
      "source": [
        "demoData[\"TransactionDateTime\"] = pd.to_datetime(\n",
        "  (demoData[\"TransactionDate\"].dt.date).astype(str)\n",
        "  + ' ' +\n",
        "  (demoData[\"TransactionTime\"].dt.time).astype(str)\n",
        ")"
      ]
    },
    {
      "attachments": {},
      "cell_type": "markdown",
      "metadata": {
        "id": "Ch4X_kD8Tbrg"
      },
      "source": [
        "Vamos a validar nuevamente los tipos de datos de nuestras columnas."
      ]
    },
    {
      "cell_type": "code",
      "execution_count": null,
      "metadata": {
        "colab": {
          "base_uri": "https://localhost:8080/"
        },
        "id": "CmNaCBPRTOtk",
        "outputId": "c72bc494-4da5-4fef-8422-52fefe12c8fa"
      },
      "outputs": [
        {
          "data": {
            "text/plain": [
              "TransactionID                      object\n",
              "CustomerID                         object\n",
              "CustomerDOB                datetime64[ns]\n",
              "CustGender                         object\n",
              "CustLocation                       object\n",
              "CustAccountBalance                float64\n",
              "TransactionDate            datetime64[ns]\n",
              "TransactionTime            datetime64[ns]\n",
              "TransactionAmount (INR)           float64\n",
              "CustomerAge                       float64\n",
              "TransactionDateTime        datetime64[ns]\n",
              "dtype: object"
            ]
          },
          "execution_count": 11,
          "metadata": {},
          "output_type": "execute_result"
        }
      ],
      "source": [
        "demoData.dtypes"
      ]
    },
    {
      "attachments": {},
      "cell_type": "markdown",
      "metadata": {
        "id": "9JvV_SrCTgP9"
      },
      "source": [
        "Como vemos ya tenemos varios tipos de datos de columnas importantes como debería ser."
      ]
    },
    {
      "attachments": {},
      "cell_type": "markdown",
      "metadata": {
        "id": "G5MeUFR4U2Fd"
      },
      "source": [
        "Ahora lo que haremos será un breve resumen  estadistico para validar información como la media, desviación estándar, valores mínimos y máximos, percentiles, etc., para las columnas numéricas. Esto nos ayudará a comprender la distribución y las características de los datos."
      ]
    },
    {
      "cell_type": "code",
      "execution_count": null,
      "metadata": {
        "colab": {
          "base_uri": "https://localhost:8080/",
          "height": 300
        },
        "id": "yzDJ-sVWgxVT",
        "outputId": "b8bca44b-9228-4a75-9ee8-a826e42eb9a6"
      },
      "outputs": [
        {
          "data": {
            "text/html": [
              "\n",
              "  <div id=\"df-589a8dc6-9a5a-4e89-93ae-98152e2a90dd\">\n",
              "    <div class=\"colab-df-container\">\n",
              "      <div>\n",
              "<style scoped>\n",
              "    .dataframe tbody tr th:only-of-type {\n",
              "        vertical-align: middle;\n",
              "    }\n",
              "\n",
              "    .dataframe tbody tr th {\n",
              "        vertical-align: top;\n",
              "    }\n",
              "\n",
              "    .dataframe thead th {\n",
              "        text-align: right;\n",
              "    }\n",
              "</style>\n",
              "<table border=\"1\" class=\"dataframe\">\n",
              "  <thead>\n",
              "    <tr style=\"text-align: right;\">\n",
              "      <th></th>\n",
              "      <th>CustAccountBalance</th>\n",
              "      <th>TransactionAmount (INR)</th>\n",
              "      <th>CustomerAge</th>\n",
              "    </tr>\n",
              "  </thead>\n",
              "  <tbody>\n",
              "    <tr>\n",
              "      <th>count</th>\n",
              "      <td>1046198.0</td>\n",
              "      <td>1048567.0</td>\n",
              "      <td>1045170.0</td>\n",
              "    </tr>\n",
              "    <tr>\n",
              "      <th>mean</th>\n",
              "      <td>115403.5</td>\n",
              "      <td>1574.3</td>\n",
              "      <td>33.1</td>\n",
              "    </tr>\n",
              "    <tr>\n",
              "      <th>std</th>\n",
              "      <td>846485.4</td>\n",
              "      <td>6574.7</td>\n",
              "      <td>49.0</td>\n",
              "    </tr>\n",
              "    <tr>\n",
              "      <th>min</th>\n",
              "      <td>0.0</td>\n",
              "      <td>0.0</td>\n",
              "      <td>-56.0</td>\n",
              "    </tr>\n",
              "    <tr>\n",
              "      <th>25%</th>\n",
              "      <td>4721.8</td>\n",
              "      <td>161.0</td>\n",
              "      <td>24.0</td>\n",
              "    </tr>\n",
              "    <tr>\n",
              "      <th>50%</th>\n",
              "      <td>16792.2</td>\n",
              "      <td>459.0</td>\n",
              "      <td>28.0</td>\n",
              "    </tr>\n",
              "    <tr>\n",
              "      <th>75%</th>\n",
              "      <td>57657.4</td>\n",
              "      <td>1200.0</td>\n",
              "      <td>33.0</td>\n",
              "    </tr>\n",
              "    <tr>\n",
              "      <th>max</th>\n",
              "      <td>115035495.1</td>\n",
              "      <td>1560035.0</td>\n",
              "      <td>216.0</td>\n",
              "    </tr>\n",
              "  </tbody>\n",
              "</table>\n",
              "</div>\n",
              "      <button class=\"colab-df-convert\" onclick=\"convertToInteractive('df-589a8dc6-9a5a-4e89-93ae-98152e2a90dd')\"\n",
              "              title=\"Convert this dataframe to an interactive table.\"\n",
              "              style=\"display:none;\">\n",
              "        \n",
              "  <svg xmlns=\"http://www.w3.org/2000/svg\" height=\"24px\"viewBox=\"0 0 24 24\"\n",
              "       width=\"24px\">\n",
              "    <path d=\"M0 0h24v24H0V0z\" fill=\"none\"/>\n",
              "    <path d=\"M18.56 5.44l.94 2.06.94-2.06 2.06-.94-2.06-.94-.94-2.06-.94 2.06-2.06.94zm-11 1L8.5 8.5l.94-2.06 2.06-.94-2.06-.94L8.5 2.5l-.94 2.06-2.06.94zm10 10l.94 2.06.94-2.06 2.06-.94-2.06-.94-.94-2.06-.94 2.06-2.06.94z\"/><path d=\"M17.41 7.96l-1.37-1.37c-.4-.4-.92-.59-1.43-.59-.52 0-1.04.2-1.43.59L10.3 9.45l-7.72 7.72c-.78.78-.78 2.05 0 2.83L4 21.41c.39.39.9.59 1.41.59.51 0 1.02-.2 1.41-.59l7.78-7.78 2.81-2.81c.8-.78.8-2.07 0-2.86zM5.41 20L4 18.59l7.72-7.72 1.47 1.35L5.41 20z\"/>\n",
              "  </svg>\n",
              "      </button>\n",
              "      \n",
              "  <style>\n",
              "    .colab-df-container {\n",
              "      display:flex;\n",
              "      flex-wrap:wrap;\n",
              "      gap: 12px;\n",
              "    }\n",
              "\n",
              "    .colab-df-convert {\n",
              "      background-color: #E8F0FE;\n",
              "      border: none;\n",
              "      border-radius: 50%;\n",
              "      cursor: pointer;\n",
              "      display: none;\n",
              "      fill: #1967D2;\n",
              "      height: 32px;\n",
              "      padding: 0 0 0 0;\n",
              "      width: 32px;\n",
              "    }\n",
              "\n",
              "    .colab-df-convert:hover {\n",
              "      background-color: #E2EBFA;\n",
              "      box-shadow: 0px 1px 2px rgba(60, 64, 67, 0.3), 0px 1px 3px 1px rgba(60, 64, 67, 0.15);\n",
              "      fill: #174EA6;\n",
              "    }\n",
              "\n",
              "    [theme=dark] .colab-df-convert {\n",
              "      background-color: #3B4455;\n",
              "      fill: #D2E3FC;\n",
              "    }\n",
              "\n",
              "    [theme=dark] .colab-df-convert:hover {\n",
              "      background-color: #434B5C;\n",
              "      box-shadow: 0px 1px 3px 1px rgba(0, 0, 0, 0.15);\n",
              "      filter: drop-shadow(0px 1px 2px rgba(0, 0, 0, 0.3));\n",
              "      fill: #FFFFFF;\n",
              "    }\n",
              "  </style>\n",
              "\n",
              "      <script>\n",
              "        const buttonEl =\n",
              "          document.querySelector('#df-589a8dc6-9a5a-4e89-93ae-98152e2a90dd button.colab-df-convert');\n",
              "        buttonEl.style.display =\n",
              "          google.colab.kernel.accessAllowed ? 'block' : 'none';\n",
              "\n",
              "        async function convertToInteractive(key) {\n",
              "          const element = document.querySelector('#df-589a8dc6-9a5a-4e89-93ae-98152e2a90dd');\n",
              "          const dataTable =\n",
              "            await google.colab.kernel.invokeFunction('convertToInteractive',\n",
              "                                                     [key], {});\n",
              "          if (!dataTable) return;\n",
              "\n",
              "          const docLinkHtml = 'Like what you see? Visit the ' +\n",
              "            '<a target=\"_blank\" href=https://colab.research.google.com/notebooks/data_table.ipynb>data table notebook</a>'\n",
              "            + ' to learn more about interactive tables.';\n",
              "          element.innerHTML = '';\n",
              "          dataTable['output_type'] = 'display_data';\n",
              "          await google.colab.output.renderOutput(dataTable, element);\n",
              "          const docLink = document.createElement('div');\n",
              "          docLink.innerHTML = docLinkHtml;\n",
              "          element.appendChild(docLink);\n",
              "        }\n",
              "      </script>\n",
              "    </div>\n",
              "  </div>\n",
              "  "
            ],
            "text/plain": [
              "       CustAccountBalance  TransactionAmount (INR)  CustomerAge\n",
              "count           1046198.0                1048567.0    1045170.0\n",
              "mean             115403.5                   1574.3         33.1\n",
              "std              846485.4                   6574.7         49.0\n",
              "min                   0.0                      0.0        -56.0\n",
              "25%                4721.8                    161.0         24.0\n",
              "50%               16792.2                    459.0         28.0\n",
              "75%               57657.4                   1200.0         33.0\n",
              "max           115035495.1                1560035.0        216.0"
            ]
          },
          "execution_count": 12,
          "metadata": {},
          "output_type": "execute_result"
        }
      ],
      "source": [
        "demoData.describe().round(1)"
      ]
    },
    {
      "attachments": {},
      "cell_type": "markdown",
      "metadata": {
        "id": "slebNAastHjV"
      },
      "source": [
        "# Valores nulos o duplicados\n",
        "\n",
        "Continuamos la validación revisando nuestro dataset para validar que este no tenga valores nulos o valores duplicados."
      ]
    },
    {
      "cell_type": "code",
      "execution_count": null,
      "metadata": {
        "colab": {
          "base_uri": "https://localhost:8080/",
          "height": 394
        },
        "id": "fdwIHGIctLQ1",
        "outputId": "6de1e05f-54e1-4625-bf78-7c88c3b23463"
      },
      "outputs": [
        {
          "data": {
            "text/html": [
              "\n",
              "  <div id=\"df-ef8c800f-c28e-4ced-9357-761edb9a1885\">\n",
              "    <div class=\"colab-df-container\">\n",
              "      <div>\n",
              "<style scoped>\n",
              "    .dataframe tbody tr th:only-of-type {\n",
              "        vertical-align: middle;\n",
              "    }\n",
              "\n",
              "    .dataframe tbody tr th {\n",
              "        vertical-align: top;\n",
              "    }\n",
              "\n",
              "    .dataframe thead th {\n",
              "        text-align: right;\n",
              "    }\n",
              "</style>\n",
              "<table border=\"1\" class=\"dataframe\">\n",
              "  <thead>\n",
              "    <tr style=\"text-align: right;\">\n",
              "      <th></th>\n",
              "      <th>Columna</th>\n",
              "      <th>Valores nulos</th>\n",
              "    </tr>\n",
              "  </thead>\n",
              "  <tbody>\n",
              "    <tr>\n",
              "      <th>0</th>\n",
              "      <td>TransactionID</td>\n",
              "      <td>0</td>\n",
              "    </tr>\n",
              "    <tr>\n",
              "      <th>1</th>\n",
              "      <td>CustomerID</td>\n",
              "      <td>0</td>\n",
              "    </tr>\n",
              "    <tr>\n",
              "      <th>2</th>\n",
              "      <td>CustomerDOB</td>\n",
              "      <td>3397</td>\n",
              "    </tr>\n",
              "    <tr>\n",
              "      <th>3</th>\n",
              "      <td>CustGender</td>\n",
              "      <td>1100</td>\n",
              "    </tr>\n",
              "    <tr>\n",
              "      <th>4</th>\n",
              "      <td>CustLocation</td>\n",
              "      <td>151</td>\n",
              "    </tr>\n",
              "    <tr>\n",
              "      <th>5</th>\n",
              "      <td>CustAccountBalance</td>\n",
              "      <td>2369</td>\n",
              "    </tr>\n",
              "    <tr>\n",
              "      <th>6</th>\n",
              "      <td>TransactionDate</td>\n",
              "      <td>0</td>\n",
              "    </tr>\n",
              "    <tr>\n",
              "      <th>7</th>\n",
              "      <td>TransactionTime</td>\n",
              "      <td>0</td>\n",
              "    </tr>\n",
              "    <tr>\n",
              "      <th>8</th>\n",
              "      <td>TransactionAmount (INR)</td>\n",
              "      <td>0</td>\n",
              "    </tr>\n",
              "    <tr>\n",
              "      <th>9</th>\n",
              "      <td>CustomerAge</td>\n",
              "      <td>3397</td>\n",
              "    </tr>\n",
              "    <tr>\n",
              "      <th>10</th>\n",
              "      <td>TransactionDateTime</td>\n",
              "      <td>0</td>\n",
              "    </tr>\n",
              "  </tbody>\n",
              "</table>\n",
              "</div>\n",
              "      <button class=\"colab-df-convert\" onclick=\"convertToInteractive('df-ef8c800f-c28e-4ced-9357-761edb9a1885')\"\n",
              "              title=\"Convert this dataframe to an interactive table.\"\n",
              "              style=\"display:none;\">\n",
              "        \n",
              "  <svg xmlns=\"http://www.w3.org/2000/svg\" height=\"24px\"viewBox=\"0 0 24 24\"\n",
              "       width=\"24px\">\n",
              "    <path d=\"M0 0h24v24H0V0z\" fill=\"none\"/>\n",
              "    <path d=\"M18.56 5.44l.94 2.06.94-2.06 2.06-.94-2.06-.94-.94-2.06-.94 2.06-2.06.94zm-11 1L8.5 8.5l.94-2.06 2.06-.94-2.06-.94L8.5 2.5l-.94 2.06-2.06.94zm10 10l.94 2.06.94-2.06 2.06-.94-2.06-.94-.94-2.06-.94 2.06-2.06.94z\"/><path d=\"M17.41 7.96l-1.37-1.37c-.4-.4-.92-.59-1.43-.59-.52 0-1.04.2-1.43.59L10.3 9.45l-7.72 7.72c-.78.78-.78 2.05 0 2.83L4 21.41c.39.39.9.59 1.41.59.51 0 1.02-.2 1.41-.59l7.78-7.78 2.81-2.81c.8-.78.8-2.07 0-2.86zM5.41 20L4 18.59l7.72-7.72 1.47 1.35L5.41 20z\"/>\n",
              "  </svg>\n",
              "      </button>\n",
              "      \n",
              "  <style>\n",
              "    .colab-df-container {\n",
              "      display:flex;\n",
              "      flex-wrap:wrap;\n",
              "      gap: 12px;\n",
              "    }\n",
              "\n",
              "    .colab-df-convert {\n",
              "      background-color: #E8F0FE;\n",
              "      border: none;\n",
              "      border-radius: 50%;\n",
              "      cursor: pointer;\n",
              "      display: none;\n",
              "      fill: #1967D2;\n",
              "      height: 32px;\n",
              "      padding: 0 0 0 0;\n",
              "      width: 32px;\n",
              "    }\n",
              "\n",
              "    .colab-df-convert:hover {\n",
              "      background-color: #E2EBFA;\n",
              "      box-shadow: 0px 1px 2px rgba(60, 64, 67, 0.3), 0px 1px 3px 1px rgba(60, 64, 67, 0.15);\n",
              "      fill: #174EA6;\n",
              "    }\n",
              "\n",
              "    [theme=dark] .colab-df-convert {\n",
              "      background-color: #3B4455;\n",
              "      fill: #D2E3FC;\n",
              "    }\n",
              "\n",
              "    [theme=dark] .colab-df-convert:hover {\n",
              "      background-color: #434B5C;\n",
              "      box-shadow: 0px 1px 3px 1px rgba(0, 0, 0, 0.15);\n",
              "      filter: drop-shadow(0px 1px 2px rgba(0, 0, 0, 0.3));\n",
              "      fill: #FFFFFF;\n",
              "    }\n",
              "  </style>\n",
              "\n",
              "      <script>\n",
              "        const buttonEl =\n",
              "          document.querySelector('#df-ef8c800f-c28e-4ced-9357-761edb9a1885 button.colab-df-convert');\n",
              "        buttonEl.style.display =\n",
              "          google.colab.kernel.accessAllowed ? 'block' : 'none';\n",
              "\n",
              "        async function convertToInteractive(key) {\n",
              "          const element = document.querySelector('#df-ef8c800f-c28e-4ced-9357-761edb9a1885');\n",
              "          const dataTable =\n",
              "            await google.colab.kernel.invokeFunction('convertToInteractive',\n",
              "                                                     [key], {});\n",
              "          if (!dataTable) return;\n",
              "\n",
              "          const docLinkHtml = 'Like what you see? Visit the ' +\n",
              "            '<a target=\"_blank\" href=https://colab.research.google.com/notebooks/data_table.ipynb>data table notebook</a>'\n",
              "            + ' to learn more about interactive tables.';\n",
              "          element.innerHTML = '';\n",
              "          dataTable['output_type'] = 'display_data';\n",
              "          await google.colab.output.renderOutput(dataTable, element);\n",
              "          const docLink = document.createElement('div');\n",
              "          docLink.innerHTML = docLinkHtml;\n",
              "          element.appendChild(docLink);\n",
              "        }\n",
              "      </script>\n",
              "    </div>\n",
              "  </div>\n",
              "  "
            ],
            "text/plain": [
              "                    Columna  Valores nulos\n",
              "0             TransactionID              0\n",
              "1                CustomerID              0\n",
              "2               CustomerDOB           3397\n",
              "3                CustGender           1100\n",
              "4              CustLocation            151\n",
              "5        CustAccountBalance           2369\n",
              "6           TransactionDate              0\n",
              "7           TransactionTime              0\n",
              "8   TransactionAmount (INR)              0\n",
              "9               CustomerAge           3397\n",
              "10      TransactionDateTime              0"
            ]
          },
          "execution_count": 13,
          "metadata": {},
          "output_type": "execute_result"
        }
      ],
      "source": [
        "null = demoData.isnull().sum()\n",
        "nullTable = pd.DataFrame({'Columna': demoData.columns, 'Valores nulos': null})\n",
        "nullTable = nullTable.reset_index(drop=True)\n",
        "nullTable"
      ]
    },
    {
      "attachments": {},
      "cell_type": "markdown",
      "metadata": {
        "id": "KX-zpoh_WPfu"
      },
      "source": [
        "Podemos ver que tenemos varias columnas con valores nulos."
      ]
    },
    {
      "cell_type": "code",
      "execution_count": null,
      "metadata": {
        "colab": {
          "base_uri": "https://localhost:8080/",
          "height": 394
        },
        "id": "EtowixMAdVSN",
        "outputId": "ee504e7f-1c98-4a87-e081-e564d7208322"
      },
      "outputs": [
        {
          "data": {
            "text/html": [
              "\n",
              "  <div id=\"df-498bdff7-9e8e-4227-b9bb-48f39a393923\">\n",
              "    <div class=\"colab-df-container\">\n",
              "      <div>\n",
              "<style scoped>\n",
              "    .dataframe tbody tr th:only-of-type {\n",
              "        vertical-align: middle;\n",
              "    }\n",
              "\n",
              "    .dataframe tbody tr th {\n",
              "        vertical-align: top;\n",
              "    }\n",
              "\n",
              "    .dataframe thead th {\n",
              "        text-align: right;\n",
              "    }\n",
              "</style>\n",
              "<table border=\"1\" class=\"dataframe\">\n",
              "  <thead>\n",
              "    <tr style=\"text-align: right;\">\n",
              "      <th></th>\n",
              "      <th>Columna</th>\n",
              "      <th>Duplicados</th>\n",
              "    </tr>\n",
              "  </thead>\n",
              "  <tbody>\n",
              "    <tr>\n",
              "      <th>0</th>\n",
              "      <td>TransactionID</td>\n",
              "      <td>0</td>\n",
              "    </tr>\n",
              "    <tr>\n",
              "      <th>1</th>\n",
              "      <td>CustomerID</td>\n",
              "      <td>0</td>\n",
              "    </tr>\n",
              "    <tr>\n",
              "      <th>2</th>\n",
              "      <td>CustomerDOB</td>\n",
              "      <td>0</td>\n",
              "    </tr>\n",
              "    <tr>\n",
              "      <th>3</th>\n",
              "      <td>CustGender</td>\n",
              "      <td>0</td>\n",
              "    </tr>\n",
              "    <tr>\n",
              "      <th>4</th>\n",
              "      <td>CustLocation</td>\n",
              "      <td>0</td>\n",
              "    </tr>\n",
              "    <tr>\n",
              "      <th>5</th>\n",
              "      <td>CustAccountBalance</td>\n",
              "      <td>0</td>\n",
              "    </tr>\n",
              "    <tr>\n",
              "      <th>6</th>\n",
              "      <td>TransactionDate</td>\n",
              "      <td>0</td>\n",
              "    </tr>\n",
              "    <tr>\n",
              "      <th>7</th>\n",
              "      <td>TransactionTime</td>\n",
              "      <td>0</td>\n",
              "    </tr>\n",
              "    <tr>\n",
              "      <th>8</th>\n",
              "      <td>TransactionAmount (INR)</td>\n",
              "      <td>0</td>\n",
              "    </tr>\n",
              "    <tr>\n",
              "      <th>9</th>\n",
              "      <td>CustomerAge</td>\n",
              "      <td>0</td>\n",
              "    </tr>\n",
              "    <tr>\n",
              "      <th>10</th>\n",
              "      <td>TransactionDateTime</td>\n",
              "      <td>0</td>\n",
              "    </tr>\n",
              "  </tbody>\n",
              "</table>\n",
              "</div>\n",
              "      <button class=\"colab-df-convert\" onclick=\"convertToInteractive('df-498bdff7-9e8e-4227-b9bb-48f39a393923')\"\n",
              "              title=\"Convert this dataframe to an interactive table.\"\n",
              "              style=\"display:none;\">\n",
              "        \n",
              "  <svg xmlns=\"http://www.w3.org/2000/svg\" height=\"24px\"viewBox=\"0 0 24 24\"\n",
              "       width=\"24px\">\n",
              "    <path d=\"M0 0h24v24H0V0z\" fill=\"none\"/>\n",
              "    <path d=\"M18.56 5.44l.94 2.06.94-2.06 2.06-.94-2.06-.94-.94-2.06-.94 2.06-2.06.94zm-11 1L8.5 8.5l.94-2.06 2.06-.94-2.06-.94L8.5 2.5l-.94 2.06-2.06.94zm10 10l.94 2.06.94-2.06 2.06-.94-2.06-.94-.94-2.06-.94 2.06-2.06.94z\"/><path d=\"M17.41 7.96l-1.37-1.37c-.4-.4-.92-.59-1.43-.59-.52 0-1.04.2-1.43.59L10.3 9.45l-7.72 7.72c-.78.78-.78 2.05 0 2.83L4 21.41c.39.39.9.59 1.41.59.51 0 1.02-.2 1.41-.59l7.78-7.78 2.81-2.81c.8-.78.8-2.07 0-2.86zM5.41 20L4 18.59l7.72-7.72 1.47 1.35L5.41 20z\"/>\n",
              "  </svg>\n",
              "      </button>\n",
              "      \n",
              "  <style>\n",
              "    .colab-df-container {\n",
              "      display:flex;\n",
              "      flex-wrap:wrap;\n",
              "      gap: 12px;\n",
              "    }\n",
              "\n",
              "    .colab-df-convert {\n",
              "      background-color: #E8F0FE;\n",
              "      border: none;\n",
              "      border-radius: 50%;\n",
              "      cursor: pointer;\n",
              "      display: none;\n",
              "      fill: #1967D2;\n",
              "      height: 32px;\n",
              "      padding: 0 0 0 0;\n",
              "      width: 32px;\n",
              "    }\n",
              "\n",
              "    .colab-df-convert:hover {\n",
              "      background-color: #E2EBFA;\n",
              "      box-shadow: 0px 1px 2px rgba(60, 64, 67, 0.3), 0px 1px 3px 1px rgba(60, 64, 67, 0.15);\n",
              "      fill: #174EA6;\n",
              "    }\n",
              "\n",
              "    [theme=dark] .colab-df-convert {\n",
              "      background-color: #3B4455;\n",
              "      fill: #D2E3FC;\n",
              "    }\n",
              "\n",
              "    [theme=dark] .colab-df-convert:hover {\n",
              "      background-color: #434B5C;\n",
              "      box-shadow: 0px 1px 3px 1px rgba(0, 0, 0, 0.15);\n",
              "      filter: drop-shadow(0px 1px 2px rgba(0, 0, 0, 0.3));\n",
              "      fill: #FFFFFF;\n",
              "    }\n",
              "  </style>\n",
              "\n",
              "      <script>\n",
              "        const buttonEl =\n",
              "          document.querySelector('#df-498bdff7-9e8e-4227-b9bb-48f39a393923 button.colab-df-convert');\n",
              "        buttonEl.style.display =\n",
              "          google.colab.kernel.accessAllowed ? 'block' : 'none';\n",
              "\n",
              "        async function convertToInteractive(key) {\n",
              "          const element = document.querySelector('#df-498bdff7-9e8e-4227-b9bb-48f39a393923');\n",
              "          const dataTable =\n",
              "            await google.colab.kernel.invokeFunction('convertToInteractive',\n",
              "                                                     [key], {});\n",
              "          if (!dataTable) return;\n",
              "\n",
              "          const docLinkHtml = 'Like what you see? Visit the ' +\n",
              "            '<a target=\"_blank\" href=https://colab.research.google.com/notebooks/data_table.ipynb>data table notebook</a>'\n",
              "            + ' to learn more about interactive tables.';\n",
              "          element.innerHTML = '';\n",
              "          dataTable['output_type'] = 'display_data';\n",
              "          await google.colab.output.renderOutput(dataTable, element);\n",
              "          const docLink = document.createElement('div');\n",
              "          docLink.innerHTML = docLinkHtml;\n",
              "          element.appendChild(docLink);\n",
              "        }\n",
              "      </script>\n",
              "    </div>\n",
              "  </div>\n",
              "  "
            ],
            "text/plain": [
              "                    Columna  Duplicados\n",
              "0             TransactionID           0\n",
              "1                CustomerID           0\n",
              "2               CustomerDOB           0\n",
              "3                CustGender           0\n",
              "4              CustLocation           0\n",
              "5        CustAccountBalance           0\n",
              "6           TransactionDate           0\n",
              "7           TransactionTime           0\n",
              "8   TransactionAmount (INR)           0\n",
              "9               CustomerAge           0\n",
              "10      TransactionDateTime           0"
            ]
          },
          "execution_count": 14,
          "metadata": {},
          "output_type": "execute_result"
        }
      ],
      "source": [
        "duplicates = demoData.duplicated().sum()\n",
        "duplicatesTable = pd.DataFrame({'Columna': demoData.columns, 'Duplicados': duplicates})\n",
        "duplicatesTable"
      ]
    },
    {
      "attachments": {},
      "cell_type": "markdown",
      "metadata": {
        "id": "vIyPWoJYWSmw"
      },
      "source": [
        "No tenemos registros duplicados duplicados."
      ]
    },
    {
      "attachments": {},
      "cell_type": "markdown",
      "metadata": {
        "id": "Mbr8eNWFvAEv"
      },
      "source": [
        "# Identificar valores atípicos"
      ]
    },
    {
      "attachments": {},
      "cell_type": "markdown",
      "metadata": {
        "id": "zqK2q3YFX8WA"
      },
      "source": [
        "## TransactionID\n",
        "Para validar datos atipicos en nuestra columna **TransactionID** se podría identificar si encontraramos valores duplicados, ya que la naturaleza de los IDs de las transacciones realizadas es que sean unicos."
      ]
    },
    {
      "cell_type": "code",
      "execution_count": null,
      "metadata": {
        "colab": {
          "base_uri": "https://localhost:8080/"
        },
        "id": "sPE-9wuMYoHT",
        "outputId": "ee806a31-c6ec-4545-d565-3316bac08a0b"
      },
      "outputs": [
        {
          "data": {
            "text/plain": [
              "0"
            ]
          },
          "execution_count": 15,
          "metadata": {},
          "output_type": "execute_result"
        }
      ],
      "source": [
        "demoData.duplicated('TransactionID').sum()"
      ]
    },
    {
      "attachments": {},
      "cell_type": "markdown",
      "metadata": {
        "id": "EU2Fe3wCgRFd"
      },
      "source": [
        "## CustomerID\n",
        "Respecto a los **CustomerID** sería normal encontrarnos con valores duplicados debido a que un solo cliente puede realizar más de una transacción, por el contrario sería extraño encontrarnos con cero duplicados en este apartado."
      ]
    },
    {
      "cell_type": "code",
      "execution_count": null,
      "metadata": {
        "colab": {
          "base_uri": "https://localhost:8080/"
        },
        "id": "7Z0WgltbYemS",
        "outputId": "c645a049-38da-421d-be19-0363b9a6441c"
      },
      "outputs": [
        {
          "data": {
            "text/plain": [
              "164302"
            ]
          },
          "execution_count": 16,
          "metadata": {},
          "output_type": "execute_result"
        }
      ],
      "source": [
        "demoData.duplicated('CustomerID').sum()"
      ]
    },
    {
      "attachments": {},
      "cell_type": "markdown",
      "metadata": {
        "id": "64PKpCFbhW1h"
      },
      "source": [
        "## CustomerDOB - TransactionDate - TransactionTime\n",
        "\n",
        "Los valores atípicos en estas columnas podrían ser identificados si hay fechas de nacimiento que están fuera de un rango lógico o si hay fechas futuras. Por ejemplo, si hay fechas de nacimiento que son anteriores a una fecha mínima esperada o posteriores a la ultima fecha de actualización de este dataset en Kaggel es decir hace 2 años."
      ]
    },
    {
      "cell_type": "code",
      "execution_count": null,
      "metadata": {
        "colab": {
          "base_uri": "https://localhost:8080/"
        },
        "id": "s3h_9VfghSS4",
        "outputId": "7a35016f-6d6a-44e5-ffd9-83c3f843cc79"
      },
      "outputs": [
        {
          "data": {
            "text/plain": [
              "141645"
            ]
          },
          "execution_count": 17,
          "metadata": {},
          "output_type": "execute_result"
        }
      ],
      "source": [
        "fecha_actual = pd.Timestamp(year=2021, month=1, day=1)\n",
        "fecha_minima = pd.Timestamp(year=1900, month=1, day=1)\n",
        "#fechas_invalidas = demoData[(demoData['CustomerDOB'] > fecha_actual) | (demoData['CustomerDOB'] < fecha_minima)]\n",
        "((demoData['CustomerDOB'] > fecha_actual) | (demoData['CustomerDOB'] < fecha_minima)).sum()"
      ]
    },
    {
      "attachments": {},
      "cell_type": "markdown",
      "metadata": {
        "id": "9nTP_-fNZPn2"
      },
      "source": [
        "Estos 141645 se deberían analizar y definir que se haría con ellos validando la fuente de los datos o validando si tan solo se trata de un error para tener conocimiento al momento de definir si se eliminan o se le da un trato especial, en este caso lo que haremos será eliminar todos estos registros, más adelante en el apartado de limpieza de datos."
      ]
    },
    {
      "cell_type": "code",
      "execution_count": null,
      "metadata": {
        "colab": {
          "base_uri": "https://localhost:8080/"
        },
        "id": "0jLMeN8N59y_",
        "outputId": "1dc9e0f6-8910-4972-a130-c155a5021bcf"
      },
      "outputs": [
        {
          "data": {
            "text/plain": [
              "0"
            ]
          },
          "execution_count": 18,
          "metadata": {},
          "output_type": "execute_result"
        }
      ],
      "source": [
        "((demoData['TransactionDate'] > fecha_actual) | (demoData['TransactionDate'] < fecha_minima)).sum()"
      ]
    },
    {
      "cell_type": "code",
      "execution_count": null,
      "metadata": {
        "colab": {
          "base_uri": "https://localhost:8080/"
        },
        "id": "Ydcgxb4b6ag9",
        "outputId": "2aa6990e-e666-417b-eef3-e7fc37d7ad15"
      },
      "outputs": [
        {
          "name": "stdout",
          "output_type": "stream",
          "text": [
            "La minima hora encontrada es: 00:00:00 \n",
            "La máxima hora encontrada es: 23:59:59\n"
          ]
        }
      ],
      "source": [
        "print('La minima hora encontrada es:', min(demoData['TransactionTime'].dt.time)\n",
        ", '\\nLa máxima hora encontrada es:', max(demoData['TransactionTime'].dt.time))"
      ]
    },
    {
      "attachments": {},
      "cell_type": "markdown",
      "metadata": {
        "id": "PgIjVpibZki2"
      },
      "source": [
        "Con TransactionDate y TransactionTime no tenemos ningún problema ya que todos los datos se encuentran dentro de los rangos que se deberían encontrar."
      ]
    },
    {
      "attachments": {},
      "cell_type": "markdown",
      "metadata": {
        "id": "Ka_JXmqGjmtM"
      },
      "source": [
        "## CustGender\n",
        "\n",
        "Los valores atípicos en esta columna podrían ser identificados si hay categorías de género que no se ajustan a las opciones esperadas. Por ejemplo, si hay categorías que no son \"Masculino\" o \"Femenino\" o si hay valores inesperados o mal escritos."
      ]
    },
    {
      "cell_type": "code",
      "execution_count": null,
      "metadata": {
        "colab": {
          "base_uri": "https://localhost:8080/"
        },
        "id": "6pPBhnfTjI1I",
        "outputId": "450a2af2-1aee-436b-9384-459efc0d4b8b"
      },
      "outputs": [
        {
          "data": {
            "text/plain": [
              "1101"
            ]
          },
          "execution_count": 20,
          "metadata": {},
          "output_type": "execute_result"
        }
      ],
      "source": [
        "#categorias_inesperadas = demoData[~demoData['CustGender'].isin(['M', 'F'])]\n",
        "#categorias_inesperadas\n",
        "\n",
        "# Cantidad de valores diferentes a M y F.\n",
        "(~demoData['CustGender'].isin(['M', 'F'])).sum()"
      ]
    },
    {
      "cell_type": "code",
      "execution_count": null,
      "metadata": {
        "colab": {
          "base_uri": "https://localhost:8080/",
          "height": 472
        },
        "id": "pWNZNZ0jk876",
        "outputId": "f52de415-9b85-4614-8391-34b4cd1834f0"
      },
      "outputs": [
        {
          "data": {
            "image/png": "[encoded data removed]",
            "text/plain": [
              "<Figure size 640x480 with 1 Axes>"
            ]
          },
          "metadata": {},
          "output_type": "display_data"
        }
      ],
      "source": [
        "sns.countplot(x='CustGender', data=demoData)\n",
        "plt.xlabel('Género')\n",
        "plt.ylabel('Frecuencia')\n",
        "plt.title('Distribución de Género de los Clientes')\n",
        "plt.show()"
      ]
    },
    {
      "attachments": {},
      "cell_type": "markdown",
      "metadata": {
        "id": "fUboOn2IZ0Af"
      },
      "source": [
        "En este caso para la variable CustGender encontramos 1101 valores que no corresponden a M o F, podríamos decir que está mal o podríamos pensar en que son clientes que no quisieron compartir esta información, al trabajar con los datos de Nequi por ejemplo, sabríamos o podríamos consultar si esto es un caso normal y se debe dejar tal cual o si por el contrario es algo atípico y debemos darle un manejo determinado."
      ]
    },
    {
      "attachments": {},
      "cell_type": "markdown",
      "metadata": {
        "id": "BMkMY4qGnlbL"
      },
      "source": [
        "## CustLocation\n",
        "\n",
        "Los valores atípicos en esta columna podrían ser identificados si hay ubicaciones que no se ajustan a un conjunto de opciones predefinidas o si hay valores inesperados o inconsistentes."
      ]
    },
    {
      "cell_type": "code",
      "execution_count": null,
      "metadata": {
        "colab": {
          "base_uri": "https://localhost:8080/"
        },
        "id": "EXUSAhPAnEpd",
        "outputId": "afbc445a-170f-4c14-e38c-58da1cd07deb"
      },
      "outputs": [
        {
          "data": {
            "text/plain": [
              "9356"
            ]
          },
          "execution_count": 22,
          "metadata": {},
          "output_type": "execute_result"
        }
      ],
      "source": [
        "#uniqueLocations = pd.DataFrame(demoData['CustLocation'].unique())\n",
        "#uniqueLocationsa\n",
        "\n",
        "len(demoData['CustLocation'].unique())"
      ]
    },
    {
      "attachments": {},
      "cell_type": "markdown",
      "metadata": {
        "id": "QkmNLNXcaFaN"
      },
      "source": [
        "Para este caso de forma similar al anterior necesitaríamos saber cuales son las ubicaciones validas para poder identificar las ubicaciones que no tienen sentido, en este data set tenemos 9356 ubicaciones distintas."
      ]
    },
    {
      "attachments": {},
      "cell_type": "markdown",
      "metadata": {
        "id": "RSBc2AKkYecC"
      },
      "source": [
        "## CustAccountBalance\n",
        "\n",
        "En esta columna los datos atípicos podrían ser identificados si hay saldos de cuenta que están muy por encima o por debajo de un rango lógico. Por ejemplo, si hay valores negativos o valores extremadamente altos que parecen ser errores o anomalías.\n",
        "\n",
        "Para nuestro analisis vamos a multiplicar los valores de esta columna por 0.012 que es el valor de 1 Rupia india en USD hoy 23 de junio del 2023 y esto nos ayuda a tratar y entender mejor los datos."
      ]
    },
    {
      "cell_type": "code",
      "execution_count": null,
      "metadata": {
        "colab": {
          "base_uri": "https://localhost:8080/"
        },
        "id": "rlxd4NRdtlTw",
        "outputId": "4fdf33fe-eec6-402b-815b-50cef02ff3d0"
      },
      "outputs": [
        {
          "data": {
            "text/plain": [
              "count    1046198.0\n",
              "mean        1384.8\n",
              "std        10157.8\n",
              "min            0.0\n",
              "25%           56.7\n",
              "50%          201.5\n",
              "75%          691.9\n",
              "max      1380425.9\n",
              "Name: CustAccountBalance, dtype: float64"
            ]
          },
          "execution_count": 23,
          "metadata": {},
          "output_type": "execute_result"
        }
      ],
      "source": [
        "demoData['CustAccountBalance'] = demoData['CustAccountBalance'] * 0.012\n",
        "\n",
        "(demoData['CustAccountBalance']).describe().round(1)"
      ]
    },
    {
      "attachments": {},
      "cell_type": "markdown",
      "metadata": {
        "id": "PIWU513gaHmb"
      },
      "source": [
        "- **Media (mean):** El valor promedio de \"CustAccountBalance\" es 1384.8. Esta estadística nos proporciona una idea del valor típico o central de la columna. En este caso, indica que el saldo de la cuenta promedio de los clientes está alrededor de 1384.8 dolares.\n",
        "- **Desviación estándar (std):** La desviación estándar de \"CustAccountBalance\" es 10157.8. Esta medida muestra la dispersión de los datos alrededor de la media. Una desviación estándar alta nos indica que los valores de la columna se extienden ampliamente desde la media.\n",
        "- **Valor mínimo (min) y valor máximo (max):** El valor mínimo de \"CustAccountBalance\" es 0.0, lo que indica que hay clientes con saldo de cuenta cero y tiene mucho sentido, es perfecto que no nos hayamos encontrado con valores negativos. El valor máximo es 1380425.9, lo que sugiere que algunos clientes tienen saldos muy altos. Estos valores extremos pueden requerir una atención especial, ya que pueden ser atípicos o indicar una situación particular, por ejemplo si se tratara de datos de Nequi y estuvieramos trabajando con cuentas que no han roto los topes en la aplicación, se trataría de un error al cual se le debería dar un manejo especial.\n",
        "- **Cuartiles (25%, 50%, 75%):** Los cuartiles proporcionan información sobre la distribución de los datos. El percentil 25 (primer cuartil) es 56.7, el percentil 50 (segundo cuartil o mediana) es 201.5, y el percentil 75 (tercer cuartil) es 691.9. Estos valores dividen los datos en cuatro partes iguales, lo que muestra cómo se distribuyen los saldos de las cuentas en diferentes rangos.\n"
      ]
    },
    {
      "attachments": {},
      "cell_type": "markdown",
      "metadata": {
        "id": "flyObQr44gYQ"
      },
      "source": [
        "## TransactionAmount (INR)\n",
        "\n",
        "En este caso tenemos algo similar que con la anterior columna, así que lo trataremos de la misma forma."
      ]
    },
    {
      "cell_type": "code",
      "execution_count": null,
      "metadata": {
        "colab": {
          "base_uri": "https://localhost:8080/"
        },
        "id": "ob4AWE_J4roM",
        "outputId": "aaa5677a-f8a5-49f0-d0c6-2cfa7297784f"
      },
      "outputs": [
        {
          "data": {
            "text/plain": [
              "count    1048567.0\n",
              "mean          18.9\n",
              "std           78.9\n",
              "min            0.0\n",
              "25%            1.9\n",
              "50%            5.5\n",
              "75%           14.4\n",
              "max        18720.4\n",
              "Name: TransactionAmountUSD, dtype: float64"
            ]
          },
          "execution_count": 24,
          "metadata": {},
          "output_type": "execute_result"
        }
      ],
      "source": [
        "demoData['TransactionAmountUSD'] = demoData['TransactionAmount (INR)'] * 0.012\n",
        "\n",
        "(demoData['TransactionAmountUSD']).describe().round(1)"
      ]
    },
    {
      "attachments": {},
      "cell_type": "markdown",
      "metadata": {
        "id": "EGZHpjh9a9De"
      },
      "source": [
        "De forma similar al caso anterior tenemos las cuatro medidas estadisticas que nos dan una idea de como están distribuidos los datos, para este caso podemos notar que los datos en cuanto a transacciones se refiere están mucho menos dispersos que en cuanto al balance de las cuentas."
      ]
    },
    {
      "attachments": {},
      "cell_type": "markdown",
      "metadata": {
        "id": "Uj1eH-Er8LHl"
      },
      "source": [
        "# Limpieza de los datos\n",
        "\n",
        "De acuerdo a lo que hemos encontrado con los pasos anteriores debemos realizar una limpieza de los datos, ya que en este caso no consultaremos con el dueño de los mismos, así que los eliminaremos."
      ]
    },
    {
      "attachments": {},
      "cell_type": "markdown",
      "metadata": {
        "id": "XBxDBIc49CsL"
      },
      "source": [
        "## CustomerAge - CustomerDOB\n",
        "\n",
        "Empezaremos eliminando todos los registros que tienen una edad invalida como que sea negativa o que sea mayor a 110, adicionalmente tomaremos como edad valida la misma edad desde la que puedes abrir una cuenta en Nequi, mayor a 13 años, es decir que tambien eliminaremos los registros con fechas que no tienen sentido de la columna CustomerDOB ya que la columna CustomerAge se genera haciendo uso de CustomerDOB.<br>\n",
        "\n",
        "Posteriormente pasamos el valor de edad como tipo de dato entero."
      ]
    },
    {
      "cell_type": "code",
      "execution_count": null,
      "metadata": {
        "colab": {
          "base_uri": "https://localhost:8080/"
        },
        "id": "BHOubeSt9B5g",
        "outputId": "bb6e42f2-eb19-4da4-d708-bea44efa5354"
      },
      "outputs": [
        {
          "name": "stderr",
          "output_type": "stream",
          "text": [
            "<ipython-input-25-550f925f4da0>:4: SettingWithCopyWarning: \n",
            "A value is trying to be set on a copy of a slice from a DataFrame.\n",
            "Try using .loc[row_indexer,col_indexer] = value instead\n",
            "\n",
            "See the caveats in the documentation: https://pandas.pydata.org/pandas-docs/stable/user_guide/indexing.html#returning-a-view-versus-a-copy\n",
            "  demoData[\"CustomerAge\"] = demoData[\"CustomerAge\"].astype(int)\n"
          ]
        }
      ],
      "source": [
        "demoData = demoData[demoData['CustomerAge'] >= 13]\n",
        "demoData = demoData[demoData['CustomerAge'] <= 110]\n",
        "\n",
        "demoData[\"CustomerAge\"] = demoData[\"CustomerAge\"].astype(int)"
      ]
    },
    {
      "cell_type": "code",
      "execution_count": null,
      "metadata": {
        "colab": {
          "base_uri": "https://localhost:8080/"
        },
        "id": "jobB-2wG9BHJ",
        "outputId": "5700ea2d-4d08-483b-94f4-dc85252cb37a"
      },
      "outputs": [
        {
          "name": "stdout",
          "output_type": "stream",
          "text": [
            "<class 'pandas.core.frame.DataFrame'>\n",
            "Int64Index: 903185 entries, 0 to 1048566\n",
            "Data columns (total 12 columns):\n",
            " #   Column                   Non-Null Count   Dtype         \n",
            "---  ------                   --------------   -----         \n",
            " 0   TransactionID            903185 non-null  object        \n",
            " 1   CustomerID               903185 non-null  object        \n",
            " 2   CustomerDOB              903185 non-null  datetime64[ns]\n",
            " 3   CustGender               903185 non-null  object        \n",
            " 4   CustLocation             903034 non-null  object        \n",
            " 5   CustAccountBalance       901186 non-null  float64       \n",
            " 6   TransactionDate          903185 non-null  datetime64[ns]\n",
            " 7   TransactionTime          903185 non-null  datetime64[ns]\n",
            " 8   TransactionAmount (INR)  903185 non-null  float64       \n",
            " 9   CustomerAge              903185 non-null  int64         \n",
            " 10  TransactionDateTime      903185 non-null  datetime64[ns]\n",
            " 11  TransactionAmountUSD     903185 non-null  float64       \n",
            "dtypes: datetime64[ns](4), float64(3), int64(1), object(4)\n",
            "memory usage: 89.6+ MB\n"
          ]
        }
      ],
      "source": [
        "demoData.info()"
      ]
    },
    {
      "attachments": {},
      "cell_type": "markdown",
      "metadata": {
        "id": "vtul8WObQzqd"
      },
      "source": [
        "## TransactionAmountUSD\n",
        "Algo que también es importante tener en cuenta en el análisis de los datos es validar valores que no tengan sentido para nuestro caso el data set contiene datos de transacciones entonces transacciones con un valor de cero no nos interesan así que vamos a validar que no tengamos este tipo de transacciones."
      ]
    },
    {
      "cell_type": "code",
      "execution_count": null,
      "metadata": {
        "id": "iVndLWUJOu0A"
      },
      "outputs": [],
      "source": [
        "demoData = demoData[demoData[\"TransactionAmountUSD\"] != 0]"
      ]
    },
    {
      "attachments": {},
      "cell_type": "markdown",
      "metadata": {
        "id": "7ijlWnzx8A3_"
      },
      "source": [
        "Vamos a redondear los valores monetarios a dos cifras decimales."
      ]
    },
    {
      "cell_type": "code",
      "execution_count": null,
      "metadata": {
        "id": "_u0wZJvS8A_4"
      },
      "outputs": [],
      "source": [
        "demoData = demoData.round({'TransactionAmountUSD': 2, 'CustAccountBalance': 2})"
      ]
    },
    {
      "attachments": {},
      "cell_type": "markdown",
      "metadata": {
        "id": "QcvlhfeKST5O"
      },
      "source": [
        "## Eliminar nulos\n",
        "\n",
        "### CustAccountBalance - CustLocation - CustGender"
      ]
    },
    {
      "cell_type": "code",
      "execution_count": null,
      "metadata": {
        "id": "5Hie-Y25SZJT"
      },
      "outputs": [],
      "source": [
        "demoData = demoData[demoData[\"CustAccountBalance\"].isnull() == False]\n",
        "demoData = demoData[demoData[\"CustLocation\"].isnull() == False]\n",
        "demoData = demoData[demoData[\"CustGender\"].isnull() == False]"
      ]
    },
    {
      "cell_type": "code",
      "execution_count": null,
      "metadata": {
        "colab": {
          "base_uri": "https://localhost:8080/"
        },
        "id": "4Hnilgo3b-Zw",
        "outputId": "01f20203-05d9-441f-b8a2-b7a20c4c546a"
      },
      "outputs": [
        {
          "name": "stdout",
          "output_type": "stream",
          "text": [
            "<class 'pandas.core.frame.DataFrame'>\n",
            "Int64Index: 900402 entries, 0 to 1048566\n",
            "Data columns (total 12 columns):\n",
            " #   Column                   Non-Null Count   Dtype         \n",
            "---  ------                   --------------   -----         \n",
            " 0   TransactionID            900402 non-null  object        \n",
            " 1   CustomerID               900402 non-null  object        \n",
            " 2   CustomerDOB              900402 non-null  datetime64[ns]\n",
            " 3   CustGender               900402 non-null  object        \n",
            " 4   CustLocation             900402 non-null  object        \n",
            " 5   CustAccountBalance       900402 non-null  float64       \n",
            " 6   TransactionDate          900402 non-null  datetime64[ns]\n",
            " 7   TransactionTime          900402 non-null  datetime64[ns]\n",
            " 8   TransactionAmount (INR)  900402 non-null  float64       \n",
            " 9   CustomerAge              900402 non-null  int64         \n",
            " 10  TransactionDateTime      900402 non-null  datetime64[ns]\n",
            " 11  TransactionAmountUSD     900402 non-null  float64       \n",
            "dtypes: datetime64[ns](4), float64(3), int64(1), object(4)\n",
            "memory usage: 89.3+ MB\n"
          ]
        }
      ],
      "source": [
        "demoData.info()"
      ]
    },
    {
      "attachments": {},
      "cell_type": "markdown",
      "metadata": {
        "id": "SRYKPK9CY-oQ"
      },
      "source": [
        "Como podemos ver ahora todas las columnas tienen la misma cantidad de registros, esto nos dice que no tenemos valores nulos."
      ]
    },
    {
      "attachments": {},
      "cell_type": "markdown",
      "metadata": {
        "id": "v7_k0XWPcHHF"
      },
      "source": [
        "## Eliminar columnas innecesarias.\n",
        "\n",
        "Podemos quitar columnas que se hayan creado durante el analisis, en este caso lo que haremos será eliminar la columna del monto de la transacción ya que no vamos a utilizar la moneda india para continuar con los analisis, nos quedaremos con su valor en dolares que encontramos en la columna 'TransactionAmountUSD'.<br>\n",
        "\n",
        "Adicionalmente vamos a eliminar las columnas 'TransactionDate', 'TransactionTime' ya que su información puede ser extraida de la columna llamada 'TransactionDateTime' que creamos anteriormente."
      ]
    },
    {
      "cell_type": "code",
      "execution_count": null,
      "metadata": {
        "id": "vwIjX7Hfchro"
      },
      "outputs": [],
      "source": [
        "demoData = demoData.drop(['TransactionAmount (INR)', 'TransactionDate', 'TransactionTime'], axis=1)"
      ]
    },
    {
      "attachments": {},
      "cell_type": "markdown",
      "metadata": {
        "id": "TZWSfqTT8Ku8"
      },
      "source": [
        "# Exportamos el archivo como CSV"
      ]
    },
    {
      "cell_type": "code",
      "execution_count": null,
      "metadata": {
        "id": "57mXmtbIXEoz"
      },
      "outputs": [],
      "source": [
        "demoData.to_csv('/content/demograficData.csv', index=False)"
      ]
    }
  ],
  "metadata": {
    "colab": {
      "provenance": []
    },
    "kernelspec": {
      "display_name": "Python 3",
      "name": "python3"
    },
    "language_info": {
      "name": "python",
      "version": "3.10.6"
    }
  },
  "nbformat": 4,
  "nbformat_minor": 0
}
